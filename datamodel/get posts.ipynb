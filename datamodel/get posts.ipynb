{
 "cells": [
  {
   "cell_type": "code",
   "execution_count": 51,
   "metadata": {
    "collapsed": true
   },
   "outputs": [],
   "source": [
    "import numpy as np\n",
    "import pandas as pd\n",
    "import json\n",
    "import requests\n",
    "from sklearn.feature_extraction.text import CountVectorizer, TfidfTransformer\n"
   ]
  },
  {
   "cell_type": "code",
   "execution_count": 30,
   "metadata": {},
   "outputs": [
    {
     "name": "stdout",
     "output_type": "stream",
     "text": [
      "<class 'pandas.core.frame.DataFrame'>\n",
      "RangeIndex: 100 entries, 0 to 99\n",
      "Data columns (total 2 columns):\n",
      "text     100 non-null object\n",
      "title    100 non-null object\n",
      "dtypes: object(2)\n",
      "memory usage: 1.6+ KB\n"
     ]
    }
   ],
   "source": [
    "#df = pd.read_json('http://webhose.io/filterWebContent?token=70bb8527-fb92-48bc-b5fa-4c9a6b564433&format=json&sort=crawled&q=%22donald%20trump%22%20language%3Aenglish')\n",
    "\n",
    "r = requests.get('http://webhose.io/filterWebContent?token=70bb8527-fb92-48bc-b5fa-4c9a6b564433&format=json&sort=crawled&q=%22donald%20trump%22%20language%3Aenglish')\n",
    "\n",
    "json = r.json()\n",
    "\n",
    "posts =  pd.DataFrame(data=json[\"posts\"])\n",
    "\n",
    "posts[[\"text\", \"title\"]].info()\n",
    "\n",
    "#sklearn.feature_extraction.text.CountVectorizer"
   ]
  },
  {
   "cell_type": "code",
   "execution_count": 31,
   "metadata": {},
   "outputs": [],
   "source": [
    "#posts.to_csv('posts.csv')"
   ]
  },
  {
   "cell_type": "code",
   "execution_count": 84,
   "metadata": {},
   "outputs": [],
   "source": [
    "#CountVectorizer(input='tony tony hammainen on pro')\n",
    "count_vect = CountVectorizer()\n",
    "X_train_counts = count_vect.fit_transform(posts[\"text\"])\n",
    "tf_transformer = TfidfTransformer(use_idf=True, sublinear_tf=True).fit(X_train_counts)\n",
    "X_train_tf = tf_transformer.transform(X_train_counts)\n",
    "\n",
    "#X_train_tf.getcol(0).toarray()\n",
    "\n",
    "X_df = pd.DataFrame(X_train_tf.toarray(), columns=count_vect.get_feature_names())"
   ]
  },
  {
   "cell_type": "code",
   "execution_count": 87,
   "metadata": {},
   "outputs": [
    {
     "data": {
      "text/html": [
       "<div>\n",
       "<style>\n",
       "    .dataframe thead tr:only-child th {\n",
       "        text-align: right;\n",
       "    }\n",
       "\n",
       "    .dataframe thead th {\n",
       "        text-align: left;\n",
       "    }\n",
       "\n",
       "    .dataframe tbody tr th {\n",
       "        vertical-align: top;\n",
       "    }\n",
       "</style>\n",
       "<table border=\"1\" class=\"dataframe\">\n",
       "  <thead>\n",
       "    <tr style=\"text-align: right;\">\n",
       "      <th></th>\n",
       "      <th>0</th>\n",
       "    </tr>\n",
       "  </thead>\n",
       "  <tbody>\n",
       "    <tr>\n",
       "      <th>sberbank</th>\n",
       "      <td>0.177644</td>\n",
       "    </tr>\n",
       "    <tr>\n",
       "      <th>controlled</th>\n",
       "      <td>0.173549</td>\n",
       "    </tr>\n",
       "    <tr>\n",
       "      <th>bank</th>\n",
       "      <td>0.171582</td>\n",
       "    </tr>\n",
       "    <tr>\n",
       "      <th>moscow</th>\n",
       "      <td>0.150583</td>\n",
       "    </tr>\n",
       "    <tr>\n",
       "      <th>publish</th>\n",
       "      <td>0.143322</td>\n",
       "    </tr>\n",
       "    <tr>\n",
       "      <th>central</th>\n",
       "      <td>0.140269</td>\n",
       "    </tr>\n",
       "    <tr>\n",
       "      <th>russian</th>\n",
       "      <td>0.139576</td>\n",
       "    </tr>\n",
       "    <tr>\n",
       "      <th>reuters</th>\n",
       "      <td>0.137993</td>\n",
       "    </tr>\n",
       "    <tr>\n",
       "      <th>banks</th>\n",
       "      <td>0.135945</td>\n",
       "    </tr>\n",
       "    <tr>\n",
       "      <th>lenders</th>\n",
       "      <td>0.131515</td>\n",
       "    </tr>\n",
       "  </tbody>\n",
       "</table>\n",
       "</div>"
      ],
      "text/plain": [
       "                   0\n",
       "sberbank    0.177644\n",
       "controlled  0.173549\n",
       "bank        0.171582\n",
       "moscow      0.150583\n",
       "publish     0.143322\n",
       "central     0.140269\n",
       "russian     0.139576\n",
       "reuters     0.137993\n",
       "banks       0.135945\n",
       "lenders     0.131515"
      ]
     },
     "execution_count": 87,
     "metadata": {},
     "output_type": "execute_result"
    }
   ],
   "source": [
    "X_df.head(1).T.sort_values(by=0, ascending=False).head(10)"
   ]
  },
  {
   "cell_type": "code",
   "execution_count": 88,
   "metadata": {},
   "outputs": [
    {
     "data": {
      "text/plain": [
       "'Russia moves to shelter banks funding arms makers from sanctions'"
      ]
     },
     "execution_count": 88,
     "metadata": {},
     "output_type": "execute_result"
    }
   ],
   "source": [
    "posts[\"title\"][0]"
   ]
  }
 ],
 "metadata": {
  "kernelspec": {
   "display_name": "Python 3",
   "language": "python",
   "name": "python3"
  },
  "language_info": {
   "codemirror_mode": {
    "name": "ipython",
    "version": 3
   },
   "file_extension": ".py",
   "mimetype": "text/x-python",
   "name": "python",
   "nbconvert_exporter": "python",
   "pygments_lexer": "ipython3",
   "version": "3.6.1"
  }
 },
 "nbformat": 4,
 "nbformat_minor": 2
}
