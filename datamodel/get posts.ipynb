{
 "cells": [
  {
   "cell_type": "code",
   "execution_count": 17,
   "metadata": {
    "collapsed": true
   },
   "outputs": [],
   "source": [
    "import numpy as np\n",
    "import pandas as pd\n",
    "import json\n",
    "import requests\n"
   ]
  },
  {
   "cell_type": "code",
   "execution_count": 30,
   "metadata": {},
   "outputs": [
    {
     "name": "stdout",
     "output_type": "stream",
     "text": [
      "<class 'pandas.core.frame.DataFrame'>\n",
      "RangeIndex: 100 entries, 0 to 99\n",
      "Data columns (total 2 columns):\n",
      "text     100 non-null object\n",
      "title    100 non-null object\n",
      "dtypes: object(2)\n",
      "memory usage: 1.6+ KB\n"
     ]
    }
   ],
   "source": [
    "#df = pd.read_json('http://webhose.io/filterWebContent?token=70bb8527-fb92-48bc-b5fa-4c9a6b564433&format=json&sort=crawled&q=%22donald%20trump%22%20language%3Aenglish')\n",
    "\n",
    "r = requests.get('http://webhose.io/filterWebContent?token=70bb8527-fb92-48bc-b5fa-4c9a6b564433&format=json&sort=crawled&q=%22donald%20trump%22%20language%3Aenglish')\n",
    "\n",
    "json = r.json()\n",
    "\n",
    "posts =  pd.DataFrame(data=json[\"posts\"])\n",
    "\n",
    "posts[[\"text\", \"title\"]].info()\n",
    "\n",
    "#sklearn.feature_extraction.text.CountVectorizer"
   ]
  },
  {
   "cell_type": "code",
   "execution_count": 31,
   "metadata": {},
   "outputs": [],
   "source": [
    "posts.to_csv('posts.csv')"
   ]
  },
  {
   "cell_type": "code",
   "execution_count": null,
   "metadata": {
    "collapsed": true
   },
   "outputs": [],
   "source": []
  }
 ],
 "metadata": {
  "kernelspec": {
   "display_name": "Python 3",
   "language": "python",
   "name": "python3"
  },
  "language_info": {
   "codemirror_mode": {
    "name": "ipython",
    "version": 3
   },
   "file_extension": ".py",
   "mimetype": "text/x-python",
   "name": "python",
   "nbconvert_exporter": "python",
   "pygments_lexer": "ipython3",
   "version": "3.6.1"
  }
 },
 "nbformat": 4,
 "nbformat_minor": 2
}
