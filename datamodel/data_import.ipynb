{
 "cells": [
  {
   "cell_type": "code",
   "execution_count": 125,
   "metadata": {
    "collapsed": true
   },
   "outputs": [],
   "source": [
    "import os, json\n",
    "import pandas as pd"
   ]
  },
  {
   "cell_type": "code",
   "execution_count": 126,
   "metadata": {
    "collapsed": true
   },
   "outputs": [],
   "source": [
    "def decodeName(name):\n",
    "    if type(name) == str: # leave unicode ones alone\n",
    "        try:\n",
    "            name = name.decode('utf8')\n",
    "        except:\n",
    "            name = name.decode('windows-1252')\n",
    "    return name"
   ]
  },
  {
   "cell_type": "code",
   "execution_count": 127,
   "metadata": {},
   "outputs": [],
   "source": [
    "path_to_json = '/Users/anttiluiro/Antti-git/eng_articles'\n",
    "path_to_json = path_to_json.encode('utf-8')\n",
    "\n",
    "\n",
    "domain_list = ['in.reuters.com', 'uk.reuters.com' 'people.com', 'nytimes.com', 'latimes.com', \n",
    "               'af.reuters.com', 'dailymail.co.uk', 'nba.com', \n",
    "               'abcnews', 'theverge.com']\n",
    "\n",
    "\n",
    "json_ending = '.json'\n",
    "json_ending = json_ending.encode('utf-8')\n",
    "json_files = [pos_json for pos_json in os.listdir(path_to_json) \n",
    "              if pos_json.endswith(json_ending)]\n",
    "\n",
    "jsons_data = pd.DataFrame(columns=['title','text', 'site'])\n",
    "a = 0\n",
    "for index, js in enumerate(json_files):\n",
    "    a = a+1\n",
    "    if a>600000:\n",
    "        break\n",
    "    with open(os.path.join(path_to_json, js), encoding='utf-8') as json_file:\n",
    "\n",
    "        json_text = json.load(json_file)\n",
    "\n",
    "        # Check if article is from our preferred domains\n",
    "        if any(domain in json_text['thread']['site_full'] for domain in domain_list):\n",
    "            title = json_text['title']\n",
    "            text = json_text['text']\n",
    "            site = json_text['thread']['site_full']\n",
    "       \n",
    "            # here I push a list of data into a pandas DataFrame at row given by 'index'\n",
    "            jsons_data.loc[index] = [title, text, site]\n",
    "\n",
    "# now that we have the pertinent json data in our DataFrame let's look at it"
   ]
  },
  {
   "cell_type": "code",
   "execution_count": 129,
   "metadata": {
    "collapsed": true
   },
   "outputs": [],
   "source": [
    "jsons_data.to_json('Limited_Data.json')"
   ]
  },
  {
   "cell_type": "code",
   "execution_count": 133,
   "metadata": {},
   "outputs": [],
   "source": [
    "data_in = pd.read_json('Limited_Data.json')"
   ]
  },
  {
   "cell_type": "code",
   "execution_count": 138,
   "metadata": {},
   "outputs": [
    {
     "data": {
      "text/plain": [
       "pandas.core.frame.DataFrame"
      ]
     },
     "execution_count": 138,
     "metadata": {},
     "output_type": "execute_result"
    }
   ],
   "source": [
    "type(data_in)"
   ]
  }
 ],
 "metadata": {
  "kernelspec": {
   "display_name": "Python 3",
   "language": "python",
   "name": "python3"
  },
  "language_info": {
   "codemirror_mode": {
    "name": "ipython",
    "version": 3
   },
   "file_extension": ".py",
   "mimetype": "text/x-python",
   "name": "python",
   "nbconvert_exporter": "python",
   "pygments_lexer": "ipython3",
   "version": "3.6.3"
  }
 },
 "nbformat": 4,
 "nbformat_minor": 2
}
